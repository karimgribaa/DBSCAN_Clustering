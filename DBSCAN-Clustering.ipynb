{
 "cells": [
  {
   "cell_type": "markdown",
   "metadata": {},
   "source": [
    "<a href=\"https://www.bigdatauniversity.com\"><img src = \"https://ibm.box.com/shared/static/cw2c7r3o20w9zn8gkecaeyjhgw3xdgbj.png\" width = 400, align = \"center\"></a>\n",
    "\n",
    "# <center>Clustering basé sur la densité</center>\n"
   ]
  },
  {
   "cell_type": "markdown",
   "metadata": {},
   "source": [
    "La plupart des techniques de clustering traditionnelles, telles que les k-means, le clustering hiérarchique et flou, peuvent être utilisées pour regrouper des données sans supervision.\n",
    "\n",
    "Cependant, lorsqu'elles sont appliquées à des tâches avec des clusters de forme arbitraire ou des clusters au sein d'un cluster, les techniques traditionnelles peuvent ne pas être en mesure d'obtenir de bons résultats. Autrement dit, les éléments du même cluster peuvent ne pas partager suffisamment de similarités ou les performances peuvent être médiocres.\n",
    "De plus, le clustering basé sur la densité localise les régions de haute densité qui sont séparées les unes des autres par des régions de faible densité. La densité, dans ce contexte, est définie comme le nombre de points dans un rayon spécifié.\n",
    "\n",
    "Dans cette section, l'objectif principal sera de manipuler les données et les propriétés de DBSCAN et d'observer le clustering résultant."
   ]
  },
  {
   "cell_type": "markdown",
   "metadata": {},
   "source": [
    "Importez les bibliothèques suivantes :\n",
    "\n",
    "<ul>\n",
    "     <li> <b>numpy as np</b> </li>\n",
    "     <li> <b>DBSCAN</b> de <b>sklearn.cluster</b> </li>\n",
    "     <li> <b>make_blobs</b> de <b>sklearn.datasets.samples_generator</b> </li>\n",
    "     <li> <b>StandardScaler</b> de <b>sklearn.preprocessing</b> </li>\n",
    "     <li> <b>matplotlib.pyplot en tant que plt</b> </li>\n",
    "</ul> <br>\n",
    "N'oubliez pas <b> %matplotlib inline </b> pour afficher les tracés\n"
   ]
  },
  {
   "cell_type": "code",
   "execution_count": 17,
   "metadata": {},
   "outputs": [],
   "source": [
    "import numpy as np \n",
    "from sklearn.cluster import DBSCAN \n",
    "from sklearn.datasets import make_blobs \n",
    "from sklearn.preprocessing import StandardScaler \n",
    "import matplotlib.pyplot as plt \n",
    "%matplotlib inline"
   ]
  },
  {
   "cell_type": "markdown",
   "metadata": {},
   "source": [
    "### Génération de données\n",
    "\n",
    "La fonction ci-dessous générera les points de données et nécessite ces entrées :\n",
    "\n",
    "<ul>\n",
    "     <li> <b>centroidLocation</b> : coordonnées des centroïdes qui généreront les données aléatoires. </li>\n",
    "     <ul> <li> Exemple : saisie : [[4,3], [2,-1], [-1,4]] </li> </ul>\n",
    "     <li> <b>numSamples</b> : le nombre de points de données que nous voulons générer, répartis sur le nombre de centroïdes (nombre de centroïdes définis dans centroidLocation) </li>\n",
    "     <ul> <li> Exemple : 1500 </li> </ul>\n",
    "     <li> <b>clusterDeviation</b> : l'écart type entre les clusters. Plus le nombre est grand, plus l'espacement est grand. </li>\n",
    "     <ul> <li> Exemple : 0.5 </li> </ul>\n",
    "</ul>\n"
   ]
  },
  {
   "cell_type": "code",
   "execution_count": 18,
   "metadata": {},
   "outputs": [],
   "source": [
    "def createDataPoints(centroidLocation, numSamples, clusterDeviation):\n",
    "    # Create random data and store in feature matrix X and response vector y.\n",
    "    X, y = make_blobs(n_samples=numSamples, centers=centroidLocation, \n",
    "                                cluster_std=clusterDeviation)\n",
    "    \n",
    "    # Standardize features by removing the mean and scaling to unit variance\n",
    "    X = StandardScaler().fit_transform(X)\n",
    "    return X, y"
   ]
  },
  {
   "cell_type": "markdown",
   "metadata": {},
   "source": [
    "Utilisez <b>createDataPoints</b> avec les <b>3 entrées</b> et stockez la sortie dans les variables <b>X</b> et <b>y</b>.\n"
   ]
  },
  {
   "cell_type": "code",
   "execution_count": 21,
   "metadata": {},
   "outputs": [],
   "source": [
    "X, y = createDataPoints([[4,3], [2,-1], [-1,4]] , 1500, 0.5)"
   ]
  },
  {
   "cell_type": "markdown",
   "metadata": {},
   "source": [
    "### La modélisation\n",
    "\n",
    "DBSCAN signifie Density-Based Spatial Clustering of Applications with Noise. Cette technique est l'un des algorithmes de clustering les plus courants qui fonctionne en fonction de la densité de l'objet.\n",
    "L'idée est que si un point particulier appartient à un cluster, il doit être proche de beaucoup d'autres points de ce cluster.\n",
    "\n",
    "Il fonctionne sur la base de deux paramètres : Epsilon et nombre de Points Minimum    \n",
    "**Epsilon** détermine un rayon spécifié qui, s'il comprend un nombre suffisant de points, nous l'appelons zone dense     \n",
    "**minimumSamples** détermine le nombre minimum de points de données que nous voulons dans un voisinage pour définir un cluster.\n"
   ]
  },
  {
   "cell_type": "code",
   "execution_count": 22,
   "metadata": {},
   "outputs": [
    {
     "data": {
      "text/plain": [
       "array([0, 1, 2, ..., 2, 1, 1], dtype=int32)"
      ]
     },
     "execution_count": 22,
     "metadata": {},
     "output_type": "execute_result"
    }
   ],
   "source": [
    "epsilon = 0.3\n",
    "minimumSamples = 7\n",
    "db = DBSCAN(eps=epsilon, min_samples=minimumSamples).fit(X)\n",
    "labels = db.labels_\n",
    "labels"
   ]
  },
  {
   "cell_type": "markdown",
   "metadata": {},
   "source": [
    "### Distinguer les valeurs aberrantes\n",
    "\n",
    "Remplaçons tous les éléments par « True » dans core_samples_mask qui se trouvent dans le cluster, « False » si les points sont des valeurs aberrantes.\n"
   ]
  },
  {
   "cell_type": "code",
   "execution_count": 23,
   "metadata": {},
   "outputs": [
    {
     "data": {
      "text/plain": [
       "array([ True,  True,  True, ...,  True,  True,  True])"
      ]
     },
     "execution_count": 23,
     "metadata": {},
     "output_type": "execute_result"
    }
   ],
   "source": [
    "# Firts, create an array of booleans using the labels from db.\n",
    "core_samples_mask = np.zeros_like(db.labels_, dtype=bool)\n",
    "core_samples_mask[db.core_sample_indices_] = True\n",
    "core_samples_mask"
   ]
  },
  {
   "cell_type": "code",
   "execution_count": 24,
   "metadata": {},
   "outputs": [
    {
     "data": {
      "text/plain": [
       "3"
      ]
     },
     "execution_count": 24,
     "metadata": {},
     "output_type": "execute_result"
    }
   ],
   "source": [
    "# Number of clusters in labels, ignoring noise if present.\n",
    "n_clusters_ = len(set(labels)) - (1 if -1 in labels else 0)\n",
    "n_clusters_"
   ]
  },
  {
   "cell_type": "code",
   "execution_count": 25,
   "metadata": {},
   "outputs": [
    {
     "data": {
      "text/plain": [
       "{-1, 0, 1, 2}"
      ]
     },
     "execution_count": 25,
     "metadata": {},
     "output_type": "execute_result"
    }
   ],
   "source": [
    "# Remove repetition in labels by turning it into a set.\n",
    "unique_labels = set(labels)\n",
    "unique_labels"
   ]
  },
  {
   "cell_type": "markdown",
   "metadata": {},
   "source": [
    "### Visualisation de données\n"
   ]
  },
  {
   "cell_type": "code",
   "execution_count": 26,
   "metadata": {},
   "outputs": [],
   "source": [
    "# Create colors for the clusters.\n",
    "colors = plt.cm.Spectral(np.linspace(0, 1, len(unique_labels)))\n"
   ]
  },
  {
   "cell_type": "code",
   "execution_count": 27,
   "metadata": {
    "scrolled": true
   },
   "outputs": [
    {
     "data": {
      "image/png": "[encoded data removed]",
      "text/plain": [
       "<Figure size 432x288 with 1 Axes>"
      ]
     },
     "metadata": {
      "needs_background": "light"
     },
     "output_type": "display_data"
    }
   ],
   "source": [
    "# Plot the points with colors\n",
    "for k, col in zip(unique_labels, colors):\n",
    "    if k == -1:\n",
    "        # Black used for noise.\n",
    "        col = 'k'\n",
    "\n",
    "    class_member_mask = (labels == k)\n",
    "\n",
    "    # Plot the datapoints that are clustered\n",
    "    xy = X[class_member_mask & core_samples_mask]\n",
    "    plt.scatter(xy[:, 0], xy[:, 1],s=50, c=[col], marker=u'o', alpha=0.5)\n",
    "\n",
    "    # Plot the outliers\n",
    "    xy = X[class_member_mask & ~core_samples_mask]\n",
    "    plt.scatter(xy[:, 0], xy[:, 1],s=50, c=[col], marker=u'o', alpha=0.5)"
   ]
  },
  {
   "cell_type": "markdown",
   "metadata": {},
   "source": [
    "## Entraine toi\n",
    "\n",
    "Pour mieux comprendre les différences entre les clusters partitionnels et basés sur la densité, essayez de regrouper l'ensemble de données ci-dessus en 3 clusters à l'aide de k-Means.\n",
    "Remarque : ne générez pas les données encore, utilisez le même ensemble de données que ci-dessus.\n"
   ]
  },
  {
   "cell_type": "code",
   "execution_count": null,
   "metadata": {},
   "outputs": [],
   "source": [
    "# write your code here\n",
    "\n",
    "\n"
   ]
  },
  {
   "cell_type": "markdown",
   "metadata": {},
   "source": [
    "Double-click **here** for the solution.\n",
    "\n",
    "<!-- Your answer is below:\n",
    "\n",
    "\n",
    "from sklearn.cluster import KMeans \n",
    "k = 3\n",
    "k_means3 = KMeans(init = \"k-means++\", n_clusters = k, n_init = 12)\n",
    "k_means3.fit(X)\n",
    "fig = plt.figure(figsize=(6, 4))\n",
    "ax = fig.add_subplot(1, 1, 1)\n",
    "for k, col in zip(range(k), colors):\n",
    "    my_members = (k_means3.labels_ == k)\n",
    "    plt.scatter(X[my_members, 0], X[my_members, 1],  c=col, marker=u'o', alpha=0.5)\n",
    "plt.show()\n",
    "\n",
    "\n",
    "-->\n"
   ]
  },
  {
   "cell_type": "markdown",
   "metadata": {},
   "source": [
    "### Merci d'avoir terminé cette leçon !\n",
    "\n",
    "Carnet créé par : <a href = \"https://ca.linkedin.com/in/saeedaghabozorgi\">Saeed Aghabozorgi</a>"
   ]
  },
  {
   "cell_type": "markdown",
   "metadata": {},
   "source": [
    "<hr>\n",
    "Copyright &copy; 2018 [Classe cognitive](https://cocl.us/DX0108EN_CC). Ce bloc-notes et son code source sont publiés sous les termes de la [Licence MIT](https://bigdatauniversity.com/mit-license/).​\n"
   ]
  }
 ],
 "metadata": {
  "kernelspec": {
   "display_name": "Python 3",
   "language": "python",
   "name": "python3"
  },
  "language_info": {
   "codemirror_mode": {
    "name": "ipython",
    "version": 3
   },
   "file_extension": ".py",
   "mimetype": "text/x-python",
   "name": "python",
   "nbconvert_exporter": "python",
   "pygments_lexer": "ipython3",
   "version": "3.8.5"
  },
  "widgets": {
   "state": {},
   "version": "1.1.2"
  }
 },
 "nbformat": 4,
 "nbformat_minor": 4
}
